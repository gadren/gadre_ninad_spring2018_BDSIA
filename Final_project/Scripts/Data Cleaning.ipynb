{
 "cells": [
  {
   "cell_type": "code",
   "execution_count": 50,
   "metadata": {
    "collapsed": true
   },
   "outputs": [],
   "source": [
    "import pandas as pd\n",
    "import numpy as np"
   ]
  },
  {
   "cell_type": "code",
   "execution_count": 51,
   "metadata": {
    "collapsed": false
   },
   "outputs": [],
   "source": [
    "df_train = pd.read_csv(\"C:\\\\Users\\\\ninad\\\\Desktop\\\\BDSIN\\\\Final Project\\\\Data\\\\Taxi\\\\train.csv\", parse_dates=['pickup_datetime','dropoff_datetime'])"
   ]
  },
  {
   "cell_type": "code",
   "execution_count": 52,
   "metadata": {
    "collapsed": true
   },
   "outputs": [],
   "source": [
    "df_train['pickup_hour'] = df_train['pickup_datetime'].dt.hour\n",
    "df_train['pickup_minute'] = df_train['pickup_datetime'].dt.minute\n",
    "df_train['pickup_second'] = df_train['pickup_datetime'].dt.second\n",
    "df_train['pickup_day'] = df_train['pickup_datetime'].dt.dayofweek\n",
    "df_train['pickup_date'] = df_train['pickup_datetime'].dt.day\n",
    "df_train['pickup_month'] = df_train['pickup_datetime'].dt.month\n",
    "df_train['pickup_year'] = df_train['pickup_datetime'].dt.year"
   ]
  },
  {
   "cell_type": "code",
   "execution_count": 53,
   "metadata": {
    "collapsed": false
   },
   "outputs": [
    {
     "data": {
      "text/html": [
       "<div>\n",
       "<table border=\"1\" class=\"dataframe\">\n",
       "  <thead>\n",
       "    <tr style=\"text-align: right;\">\n",
       "      <th></th>\n",
       "      <th>id</th>\n",
       "      <th>vendor_id</th>\n",
       "      <th>pickup_datetime</th>\n",
       "      <th>dropoff_datetime</th>\n",
       "      <th>passenger_count</th>\n",
       "      <th>pickup_longitude</th>\n",
       "      <th>pickup_latitude</th>\n",
       "      <th>dropoff_longitude</th>\n",
       "      <th>dropoff_latitude</th>\n",
       "      <th>store_and_fwd_flag</th>\n",
       "      <th>trip_duration</th>\n",
       "      <th>pickup_hour</th>\n",
       "      <th>pickup_minute</th>\n",
       "      <th>pickup_second</th>\n",
       "      <th>pickup_day</th>\n",
       "      <th>pickup_date</th>\n",
       "      <th>pickup_month</th>\n",
       "      <th>pickup_year</th>\n",
       "    </tr>\n",
       "  </thead>\n",
       "  <tbody>\n",
       "    <tr>\n",
       "      <th>0</th>\n",
       "      <td>id2875421</td>\n",
       "      <td>2</td>\n",
       "      <td>2016-03-14 17:24:55</td>\n",
       "      <td>2016-03-14 17:32:30</td>\n",
       "      <td>1</td>\n",
       "      <td>-73.982155</td>\n",
       "      <td>40.767937</td>\n",
       "      <td>-73.964630</td>\n",
       "      <td>40.765602</td>\n",
       "      <td>N</td>\n",
       "      <td>455</td>\n",
       "      <td>17</td>\n",
       "      <td>24</td>\n",
       "      <td>55</td>\n",
       "      <td>0</td>\n",
       "      <td>14</td>\n",
       "      <td>3</td>\n",
       "      <td>2016</td>\n",
       "    </tr>\n",
       "    <tr>\n",
       "      <th>1</th>\n",
       "      <td>id2377394</td>\n",
       "      <td>1</td>\n",
       "      <td>2016-06-12 00:43:35</td>\n",
       "      <td>2016-06-12 00:54:38</td>\n",
       "      <td>1</td>\n",
       "      <td>-73.980415</td>\n",
       "      <td>40.738564</td>\n",
       "      <td>-73.999481</td>\n",
       "      <td>40.731152</td>\n",
       "      <td>N</td>\n",
       "      <td>663</td>\n",
       "      <td>0</td>\n",
       "      <td>43</td>\n",
       "      <td>35</td>\n",
       "      <td>6</td>\n",
       "      <td>12</td>\n",
       "      <td>6</td>\n",
       "      <td>2016</td>\n",
       "    </tr>\n",
       "    <tr>\n",
       "      <th>2</th>\n",
       "      <td>id3858529</td>\n",
       "      <td>2</td>\n",
       "      <td>2016-01-19 11:35:24</td>\n",
       "      <td>2016-01-19 12:10:48</td>\n",
       "      <td>1</td>\n",
       "      <td>-73.979027</td>\n",
       "      <td>40.763939</td>\n",
       "      <td>-74.005333</td>\n",
       "      <td>40.710087</td>\n",
       "      <td>N</td>\n",
       "      <td>2124</td>\n",
       "      <td>11</td>\n",
       "      <td>35</td>\n",
       "      <td>24</td>\n",
       "      <td>1</td>\n",
       "      <td>19</td>\n",
       "      <td>1</td>\n",
       "      <td>2016</td>\n",
       "    </tr>\n",
       "    <tr>\n",
       "      <th>3</th>\n",
       "      <td>id3504673</td>\n",
       "      <td>2</td>\n",
       "      <td>2016-04-06 19:32:31</td>\n",
       "      <td>2016-04-06 19:39:40</td>\n",
       "      <td>1</td>\n",
       "      <td>-74.010040</td>\n",
       "      <td>40.719971</td>\n",
       "      <td>-74.012268</td>\n",
       "      <td>40.706718</td>\n",
       "      <td>N</td>\n",
       "      <td>429</td>\n",
       "      <td>19</td>\n",
       "      <td>32</td>\n",
       "      <td>31</td>\n",
       "      <td>2</td>\n",
       "      <td>6</td>\n",
       "      <td>4</td>\n",
       "      <td>2016</td>\n",
       "    </tr>\n",
       "    <tr>\n",
       "      <th>4</th>\n",
       "      <td>id2181028</td>\n",
       "      <td>2</td>\n",
       "      <td>2016-03-26 13:30:55</td>\n",
       "      <td>2016-03-26 13:38:10</td>\n",
       "      <td>1</td>\n",
       "      <td>-73.973053</td>\n",
       "      <td>40.793209</td>\n",
       "      <td>-73.972923</td>\n",
       "      <td>40.782520</td>\n",
       "      <td>N</td>\n",
       "      <td>435</td>\n",
       "      <td>13</td>\n",
       "      <td>30</td>\n",
       "      <td>55</td>\n",
       "      <td>5</td>\n",
       "      <td>26</td>\n",
       "      <td>3</td>\n",
       "      <td>2016</td>\n",
       "    </tr>\n",
       "  </tbody>\n",
       "</table>\n",
       "</div>"
      ],
      "text/plain": [
       "          id  vendor_id     pickup_datetime    dropoff_datetime  \\\n",
       "0  id2875421          2 2016-03-14 17:24:55 2016-03-14 17:32:30   \n",
       "1  id2377394          1 2016-06-12 00:43:35 2016-06-12 00:54:38   \n",
       "2  id3858529          2 2016-01-19 11:35:24 2016-01-19 12:10:48   \n",
       "3  id3504673          2 2016-04-06 19:32:31 2016-04-06 19:39:40   \n",
       "4  id2181028          2 2016-03-26 13:30:55 2016-03-26 13:38:10   \n",
       "\n",
       "   passenger_count  pickup_longitude  pickup_latitude  dropoff_longitude  \\\n",
       "0                1        -73.982155        40.767937         -73.964630   \n",
       "1                1        -73.980415        40.738564         -73.999481   \n",
       "2                1        -73.979027        40.763939         -74.005333   \n",
       "3                1        -74.010040        40.719971         -74.012268   \n",
       "4                1        -73.973053        40.793209         -73.972923   \n",
       "\n",
       "   dropoff_latitude store_and_fwd_flag  trip_duration  pickup_hour  \\\n",
       "0         40.765602                  N            455           17   \n",
       "1         40.731152                  N            663            0   \n",
       "2         40.710087                  N           2124           11   \n",
       "3         40.706718                  N            429           19   \n",
       "4         40.782520                  N            435           13   \n",
       "\n",
       "   pickup_minute  pickup_second  pickup_day  pickup_date  pickup_month  \\\n",
       "0             24             55           0           14             3   \n",
       "1             43             35           6           12             6   \n",
       "2             35             24           1           19             1   \n",
       "3             32             31           2            6             4   \n",
       "4             30             55           5           26             3   \n",
       "\n",
       "   pickup_year  \n",
       "0         2016  \n",
       "1         2016  \n",
       "2         2016  \n",
       "3         2016  \n",
       "4         2016  "
      ]
     },
     "execution_count": 53,
     "metadata": {},
     "output_type": "execute_result"
    }
   ],
   "source": [
    "df_train.head()"
   ]
  },
  {
   "cell_type": "code",
   "execution_count": 54,
   "metadata": {
    "collapsed": false
   },
   "outputs": [
    {
     "data": {
      "text/html": [
       "<div>\n",
       "<table border=\"1\" class=\"dataframe\">\n",
       "  <thead>\n",
       "    <tr style=\"text-align: right;\">\n",
       "      <th></th>\n",
       "      <th>id</th>\n",
       "      <th>vendor_id</th>\n",
       "      <th>pickup_datetime</th>\n",
       "      <th>passenger_count</th>\n",
       "      <th>pickup_longitude</th>\n",
       "      <th>pickup_latitude</th>\n",
       "      <th>dropoff_longitude</th>\n",
       "      <th>dropoff_latitude</th>\n",
       "      <th>store_and_fwd_flag</th>\n",
       "    </tr>\n",
       "  </thead>\n",
       "  <tbody>\n",
       "    <tr>\n",
       "      <th>0</th>\n",
       "      <td>id3004672</td>\n",
       "      <td>1</td>\n",
       "      <td>6/30/2016 23:59</td>\n",
       "      <td>1</td>\n",
       "      <td>-73.988129</td>\n",
       "      <td>40.732029</td>\n",
       "      <td>-73.990173</td>\n",
       "      <td>40.756680</td>\n",
       "      <td>N</td>\n",
       "    </tr>\n",
       "    <tr>\n",
       "      <th>1</th>\n",
       "      <td>id3505355</td>\n",
       "      <td>1</td>\n",
       "      <td>6/30/2016 23:59</td>\n",
       "      <td>1</td>\n",
       "      <td>-73.964203</td>\n",
       "      <td>40.679993</td>\n",
       "      <td>-73.959808</td>\n",
       "      <td>40.655403</td>\n",
       "      <td>N</td>\n",
       "    </tr>\n",
       "    <tr>\n",
       "      <th>2</th>\n",
       "      <td>id1217141</td>\n",
       "      <td>1</td>\n",
       "      <td>6/30/2016 23:59</td>\n",
       "      <td>1</td>\n",
       "      <td>-73.997437</td>\n",
       "      <td>40.737583</td>\n",
       "      <td>-73.986160</td>\n",
       "      <td>40.729523</td>\n",
       "      <td>N</td>\n",
       "    </tr>\n",
       "    <tr>\n",
       "      <th>3</th>\n",
       "      <td>id2150126</td>\n",
       "      <td>2</td>\n",
       "      <td>6/30/2016 23:59</td>\n",
       "      <td>1</td>\n",
       "      <td>-73.956070</td>\n",
       "      <td>40.771900</td>\n",
       "      <td>-73.986427</td>\n",
       "      <td>40.730469</td>\n",
       "      <td>N</td>\n",
       "    </tr>\n",
       "    <tr>\n",
       "      <th>4</th>\n",
       "      <td>id1598245</td>\n",
       "      <td>1</td>\n",
       "      <td>6/30/2016 23:59</td>\n",
       "      <td>1</td>\n",
       "      <td>-73.970215</td>\n",
       "      <td>40.761475</td>\n",
       "      <td>-73.961510</td>\n",
       "      <td>40.755890</td>\n",
       "      <td>N</td>\n",
       "    </tr>\n",
       "  </tbody>\n",
       "</table>\n",
       "</div>"
      ],
      "text/plain": [
       "          id  vendor_id  pickup_datetime  passenger_count  pickup_longitude  \\\n",
       "0  id3004672          1  6/30/2016 23:59                1        -73.988129   \n",
       "1  id3505355          1  6/30/2016 23:59                1        -73.964203   \n",
       "2  id1217141          1  6/30/2016 23:59                1        -73.997437   \n",
       "3  id2150126          2  6/30/2016 23:59                1        -73.956070   \n",
       "4  id1598245          1  6/30/2016 23:59                1        -73.970215   \n",
       "\n",
       "   pickup_latitude  dropoff_longitude  dropoff_latitude store_and_fwd_flag  \n",
       "0        40.732029         -73.990173         40.756680                  N  \n",
       "1        40.679993         -73.959808         40.655403                  N  \n",
       "2        40.737583         -73.986160         40.729523                  N  \n",
       "3        40.771900         -73.986427         40.730469                  N  \n",
       "4        40.761475         -73.961510         40.755890                  N  "
      ]
     },
     "execution_count": 54,
     "metadata": {},
     "output_type": "execute_result"
    }
   ],
   "source": [
    "df_test = pd.read_csv(\"C:\\\\Users\\\\ninad\\\\Desktop\\\\BDSIN\\\\Final Project\\\\Data\\\\Taxi\\\\test.csv\")\n",
    "df_test.head()"
   ]
  },
  {
   "cell_type": "code",
   "execution_count": 55,
   "metadata": {
    "collapsed": false
   },
   "outputs": [
    {
     "data": {
      "text/html": [
       "<div>\n",
       "<table border=\"1\" class=\"dataframe\">\n",
       "  <thead>\n",
       "    <tr style=\"text-align: right;\">\n",
       "      <th></th>\n",
       "      <th>count</th>\n",
       "      <th>mean</th>\n",
       "      <th>std</th>\n",
       "      <th>min</th>\n",
       "      <th>25%</th>\n",
       "      <th>50%</th>\n",
       "      <th>75%</th>\n",
       "      <th>max</th>\n",
       "    </tr>\n",
       "  </thead>\n",
       "  <tbody>\n",
       "    <tr>\n",
       "      <th>vendor_id</th>\n",
       "      <td>1458644.0</td>\n",
       "      <td>1.534950</td>\n",
       "      <td>0.498777</td>\n",
       "      <td>1.000000</td>\n",
       "      <td>1.000000</td>\n",
       "      <td>2.000000</td>\n",
       "      <td>2.000000</td>\n",
       "      <td>2.000000e+00</td>\n",
       "    </tr>\n",
       "    <tr>\n",
       "      <th>passenger_count</th>\n",
       "      <td>1458644.0</td>\n",
       "      <td>1.664530</td>\n",
       "      <td>1.314242</td>\n",
       "      <td>0.000000</td>\n",
       "      <td>1.000000</td>\n",
       "      <td>1.000000</td>\n",
       "      <td>2.000000</td>\n",
       "      <td>9.000000e+00</td>\n",
       "    </tr>\n",
       "    <tr>\n",
       "      <th>pickup_longitude</th>\n",
       "      <td>1458644.0</td>\n",
       "      <td>-73.973486</td>\n",
       "      <td>0.070902</td>\n",
       "      <td>-121.933342</td>\n",
       "      <td>-73.991867</td>\n",
       "      <td>-73.981743</td>\n",
       "      <td>-73.967331</td>\n",
       "      <td>-6.133553e+01</td>\n",
       "    </tr>\n",
       "    <tr>\n",
       "      <th>pickup_latitude</th>\n",
       "      <td>1458644.0</td>\n",
       "      <td>40.750921</td>\n",
       "      <td>0.032881</td>\n",
       "      <td>34.359695</td>\n",
       "      <td>40.737347</td>\n",
       "      <td>40.754101</td>\n",
       "      <td>40.768360</td>\n",
       "      <td>5.188108e+01</td>\n",
       "    </tr>\n",
       "    <tr>\n",
       "      <th>dropoff_longitude</th>\n",
       "      <td>1458644.0</td>\n",
       "      <td>-73.973416</td>\n",
       "      <td>0.070643</td>\n",
       "      <td>-121.933304</td>\n",
       "      <td>-73.991325</td>\n",
       "      <td>-73.979752</td>\n",
       "      <td>-73.963013</td>\n",
       "      <td>-6.133553e+01</td>\n",
       "    </tr>\n",
       "    <tr>\n",
       "      <th>dropoff_latitude</th>\n",
       "      <td>1458644.0</td>\n",
       "      <td>40.751800</td>\n",
       "      <td>0.035891</td>\n",
       "      <td>32.181141</td>\n",
       "      <td>40.735885</td>\n",
       "      <td>40.754524</td>\n",
       "      <td>40.769810</td>\n",
       "      <td>4.392103e+01</td>\n",
       "    </tr>\n",
       "    <tr>\n",
       "      <th>trip_duration</th>\n",
       "      <td>1458644.0</td>\n",
       "      <td>959.492273</td>\n",
       "      <td>5237.431724</td>\n",
       "      <td>1.000000</td>\n",
       "      <td>397.000000</td>\n",
       "      <td>662.000000</td>\n",
       "      <td>1075.000000</td>\n",
       "      <td>3.526282e+06</td>\n",
       "    </tr>\n",
       "    <tr>\n",
       "      <th>pickup_hour</th>\n",
       "      <td>1458644.0</td>\n",
       "      <td>13.606484</td>\n",
       "      <td>6.399693</td>\n",
       "      <td>0.000000</td>\n",
       "      <td>9.000000</td>\n",
       "      <td>14.000000</td>\n",
       "      <td>19.000000</td>\n",
       "      <td>2.300000e+01</td>\n",
       "    </tr>\n",
       "    <tr>\n",
       "      <th>pickup_minute</th>\n",
       "      <td>1458644.0</td>\n",
       "      <td>29.590158</td>\n",
       "      <td>17.324714</td>\n",
       "      <td>0.000000</td>\n",
       "      <td>15.000000</td>\n",
       "      <td>30.000000</td>\n",
       "      <td>45.000000</td>\n",
       "      <td>5.900000e+01</td>\n",
       "    </tr>\n",
       "    <tr>\n",
       "      <th>pickup_second</th>\n",
       "      <td>1458644.0</td>\n",
       "      <td>29.473591</td>\n",
       "      <td>17.319852</td>\n",
       "      <td>0.000000</td>\n",
       "      <td>14.000000</td>\n",
       "      <td>29.000000</td>\n",
       "      <td>44.000000</td>\n",
       "      <td>5.900000e+01</td>\n",
       "    </tr>\n",
       "    <tr>\n",
       "      <th>pickup_day</th>\n",
       "      <td>1458644.0</td>\n",
       "      <td>3.050375</td>\n",
       "      <td>1.954039</td>\n",
       "      <td>0.000000</td>\n",
       "      <td>1.000000</td>\n",
       "      <td>3.000000</td>\n",
       "      <td>5.000000</td>\n",
       "      <td>6.000000e+00</td>\n",
       "    </tr>\n",
       "    <tr>\n",
       "      <th>pickup_date</th>\n",
       "      <td>1458644.0</td>\n",
       "      <td>15.504018</td>\n",
       "      <td>8.703135</td>\n",
       "      <td>1.000000</td>\n",
       "      <td>8.000000</td>\n",
       "      <td>15.000000</td>\n",
       "      <td>23.000000</td>\n",
       "      <td>3.100000e+01</td>\n",
       "    </tr>\n",
       "    <tr>\n",
       "      <th>pickup_month</th>\n",
       "      <td>1458644.0</td>\n",
       "      <td>3.516818</td>\n",
       "      <td>1.681038</td>\n",
       "      <td>1.000000</td>\n",
       "      <td>2.000000</td>\n",
       "      <td>4.000000</td>\n",
       "      <td>5.000000</td>\n",
       "      <td>6.000000e+00</td>\n",
       "    </tr>\n",
       "    <tr>\n",
       "      <th>pickup_year</th>\n",
       "      <td>1458644.0</td>\n",
       "      <td>2016.000000</td>\n",
       "      <td>0.000000</td>\n",
       "      <td>2016.000000</td>\n",
       "      <td>2016.000000</td>\n",
       "      <td>2016.000000</td>\n",
       "      <td>2016.000000</td>\n",
       "      <td>2.016000e+03</td>\n",
       "    </tr>\n",
       "  </tbody>\n",
       "</table>\n",
       "</div>"
      ],
      "text/plain": [
       "                       count         mean          std          min  \\\n",
       "vendor_id          1458644.0     1.534950     0.498777     1.000000   \n",
       "passenger_count    1458644.0     1.664530     1.314242     0.000000   \n",
       "pickup_longitude   1458644.0   -73.973486     0.070902  -121.933342   \n",
       "pickup_latitude    1458644.0    40.750921     0.032881    34.359695   \n",
       "dropoff_longitude  1458644.0   -73.973416     0.070643  -121.933304   \n",
       "dropoff_latitude   1458644.0    40.751800     0.035891    32.181141   \n",
       "trip_duration      1458644.0   959.492273  5237.431724     1.000000   \n",
       "pickup_hour        1458644.0    13.606484     6.399693     0.000000   \n",
       "pickup_minute      1458644.0    29.590158    17.324714     0.000000   \n",
       "pickup_second      1458644.0    29.473591    17.319852     0.000000   \n",
       "pickup_day         1458644.0     3.050375     1.954039     0.000000   \n",
       "pickup_date        1458644.0    15.504018     8.703135     1.000000   \n",
       "pickup_month       1458644.0     3.516818     1.681038     1.000000   \n",
       "pickup_year        1458644.0  2016.000000     0.000000  2016.000000   \n",
       "\n",
       "                           25%          50%          75%           max  \n",
       "vendor_id             1.000000     2.000000     2.000000  2.000000e+00  \n",
       "passenger_count       1.000000     1.000000     2.000000  9.000000e+00  \n",
       "pickup_longitude    -73.991867   -73.981743   -73.967331 -6.133553e+01  \n",
       "pickup_latitude      40.737347    40.754101    40.768360  5.188108e+01  \n",
       "dropoff_longitude   -73.991325   -73.979752   -73.963013 -6.133553e+01  \n",
       "dropoff_latitude     40.735885    40.754524    40.769810  4.392103e+01  \n",
       "trip_duration       397.000000   662.000000  1075.000000  3.526282e+06  \n",
       "pickup_hour           9.000000    14.000000    19.000000  2.300000e+01  \n",
       "pickup_minute        15.000000    30.000000    45.000000  5.900000e+01  \n",
       "pickup_second        14.000000    29.000000    44.000000  5.900000e+01  \n",
       "pickup_day            1.000000     3.000000     5.000000  6.000000e+00  \n",
       "pickup_date           8.000000    15.000000    23.000000  3.100000e+01  \n",
       "pickup_month          2.000000     4.000000     5.000000  6.000000e+00  \n",
       "pickup_year        2016.000000  2016.000000  2016.000000  2.016000e+03  "
      ]
     },
     "execution_count": 55,
     "metadata": {},
     "output_type": "execute_result"
    }
   ],
   "source": [
    "df_train.describe().T"
   ]
  },
  {
   "cell_type": "code",
   "execution_count": 56,
   "metadata": {
    "collapsed": false
   },
   "outputs": [
    {
     "name": "stdout",
     "output_type": "stream",
     "text": [
      "(1458644, 18)\n"
     ]
    }
   ],
   "source": [
    "print(df_train.shape)"
   ]
  },
  {
   "cell_type": "code",
   "execution_count": 57,
   "metadata": {
    "collapsed": false
   },
   "outputs": [
    {
     "name": "stdout",
     "output_type": "stream",
     "text": [
      "<class 'pandas.core.frame.DataFrame'>\n",
      "RangeIndex: 1458644 entries, 0 to 1458643\n",
      "Data columns (total 18 columns):\n",
      "id                    1458644 non-null object\n",
      "vendor_id             1458644 non-null int64\n",
      "pickup_datetime       1458644 non-null datetime64[ns]\n",
      "dropoff_datetime      1458644 non-null datetime64[ns]\n",
      "passenger_count       1458644 non-null int64\n",
      "pickup_longitude      1458644 non-null float64\n",
      "pickup_latitude       1458644 non-null float64\n",
      "dropoff_longitude     1458644 non-null float64\n",
      "dropoff_latitude      1458644 non-null float64\n",
      "store_and_fwd_flag    1458644 non-null object\n",
      "trip_duration         1458644 non-null int64\n",
      "pickup_hour           1458644 non-null int64\n",
      "pickup_minute         1458644 non-null int64\n",
      "pickup_second         1458644 non-null int64\n",
      "pickup_day            1458644 non-null int64\n",
      "pickup_date           1458644 non-null int64\n",
      "pickup_month          1458644 non-null int64\n",
      "pickup_year           1458644 non-null int64\n",
      "dtypes: datetime64[ns](2), float64(4), int64(10), object(2)\n",
      "memory usage: 200.3+ MB\n"
     ]
    }
   ],
   "source": [
    "df_train.info()"
   ]
  },
  {
   "cell_type": "markdown",
   "metadata": {},
   "source": [
    "<h6>Sanity check if there are any duplicate id's</h6>"
   ]
  },
  {
   "cell_type": "code",
   "execution_count": 58,
   "metadata": {
    "collapsed": false
   },
   "outputs": [
    {
     "name": "stdout",
     "output_type": "stream",
     "text": [
      "0\n"
     ]
    }
   ],
   "source": [
    "print(df_train.id.duplicated().sum())"
   ]
  },
  {
   "cell_type": "code",
   "execution_count": 59,
   "metadata": {
    "collapsed": false
   },
   "outputs": [
    {
     "name": "stdout",
     "output_type": "stream",
     "text": [
      "0\n"
     ]
    }
   ],
   "source": [
    "print(df_train.duplicated().sum())"
   ]
  },
  {
   "cell_type": "markdown",
   "metadata": {},
   "source": [
    "<h6>Sanity check to cross check if all the trips are valid</h6>"
   ]
  },
  {
   "cell_type": "code",
   "execution_count": 60,
   "metadata": {
    "collapsed": false
   },
   "outputs": [
    {
     "data": {
      "text/plain": [
       "0"
      ]
     },
     "execution_count": 60,
     "metadata": {},
     "output_type": "execute_result"
    }
   ],
   "source": [
    "sum(df_train.dropoff_datetime < df_train.pickup_datetime)"
   ]
  },
  {
   "cell_type": "markdown",
   "metadata": {},
   "source": [
    "<h6>Getting to know about the data</h6>"
   ]
  },
  {
   "cell_type": "code",
   "execution_count": 61,
   "metadata": {
    "collapsed": false
   },
   "outputs": [
    {
     "name": "stdout",
     "output_type": "stream",
     "text": [
      "Longest Trip Duration in secs: 3526282\n",
      "Shortest Trip Duration in secs: 1\n",
      "Average Trip Duration in secs: 959.4922729603659\n"
     ]
    }
   ],
   "source": [
    "#We will try and analyze the target variable that is trip duration\n",
    "print(\"Longest Trip Duration in secs: {}\".format(np.max(df_train['trip_duration'].values)))\n",
    "print(\"Shortest Trip Duration in secs: {}\".format(np.min(df_train['trip_duration'].values)))\n",
    "print(\"Average Trip Duration in secs: {}\".format(np.mean(df_train['trip_duration'].values)))"
   ]
  },
  {
   "cell_type": "markdown",
   "metadata": {},
   "source": [
    "As we can observe that the smallest trip duration was of 1 seconds which is highly impossible and hence we will try and plot the outliers"
   ]
  },
  {
   "cell_type": "code",
   "execution_count": 72,
   "metadata": {
    "collapsed": false
   },
   "outputs": [
    {
     "data": {
      "image/png": "[encoded data removed]",
      "text/plain": [
       "<matplotlib.figure.Figure at 0x19303278748>"
      ]
     },
     "metadata": {},
     "output_type": "display_data"
    }
   ],
   "source": [
    "import matplotlib.pyplot as plt\n",
    "%matplotlib inline\n",
    "import seaborn as sns\n",
    "f = plt.figure(figsize=(8,6))\n",
    "plt.scatter(range(len(df_train['trip_duration'])), np.sort(df_train['trip_duration']), alpha=0.5)\n",
    "plt.xlabel('Trip ID')\n",
    "plt.ylabel('Trip duration in seconds')\n",
    "plt.show()"
   ]
  },
  {
   "cell_type": "markdown",
   "metadata": {},
   "source": [
    "From the above scatter plot we can see that there are 4 outliers in the target variable"
   ]
  },
  {
   "cell_type": "code",
   "execution_count": 62,
   "metadata": {
    "collapsed": false
   },
   "outputs": [
    {
     "name": "stdout",
     "output_type": "stream",
     "text": [
      "Maximum number of passengers on a trip :  9\n",
      "Minimum number of passengers on a trip :  0\n",
      "Average number of passengers on a trip :  1.66452952194\n",
      "1    1033540\n",
      "2     210318\n",
      "5      78088\n",
      "3      59896\n",
      "6      48333\n",
      "4      28404\n",
      "0         60\n",
      "7          3\n",
      "9          1\n",
      "8          1\n",
      "Name: passenger_count, dtype: int64\n"
     ]
    }
   ],
   "source": [
    "# Getting to know about passengers column\n",
    "print(\"Maximum number of passengers on a trip : \", np.max(df_train['passenger_count'].values))\n",
    "print(\"Minimum number of passengers on a trip : \", np.min(df_train['passenger_count'].values))\n",
    "print(\"Average number of passengers on a trip : \", np.mean(df_train['passenger_count'].values))\n",
    "passenger_num = df_train['passenger_count'].value_counts()\n",
    "print(passenger_num)"
   ]
  },
  {
   "cell_type": "markdown",
   "metadata": {},
   "source": [
    "<h6>Checking for numm values in dataset</h6>"
   ]
  },
  {
   "cell_type": "code",
   "execution_count": 63,
   "metadata": {
    "collapsed": false
   },
   "outputs": [
    {
     "data": {
      "text/plain": [
       "id                    0\n",
       "vendor_id             0\n",
       "pickup_datetime       0\n",
       "dropoff_datetime      0\n",
       "passenger_count       0\n",
       "pickup_longitude      0\n",
       "pickup_latitude       0\n",
       "dropoff_longitude     0\n",
       "dropoff_latitude      0\n",
       "store_and_fwd_flag    0\n",
       "trip_duration         0\n",
       "pickup_hour           0\n",
       "pickup_minute         0\n",
       "pickup_second         0\n",
       "pickup_day            0\n",
       "pickup_date           0\n",
       "pickup_month          0\n",
       "pickup_year           0\n",
       "dtype: int64"
      ]
     },
     "execution_count": 63,
     "metadata": {},
     "output_type": "execute_result"
    }
   ],
   "source": [
    "df_train.isnull().sum()"
   ]
  },
  {
   "cell_type": "markdown",
   "metadata": {},
   "source": [
    "<b>We see that training data contains 14 columns and ~1.4 Million data records with No nulls are present in out dataset.</b>"
   ]
  },
  {
   "cell_type": "code",
   "execution_count": 69,
   "metadata": {
    "collapsed": false
   },
   "outputs": [
    {
     "name": "stdout",
     "output_type": "stream",
     "text": [
      "4    223533\n",
      "5    220868\n",
      "3    218574\n",
      "2    210136\n",
      "1    202749\n",
      "6    195366\n",
      "0    187418\n",
      "Name: pickup_day, dtype: int64\n"
     ]
    }
   ],
   "source": [
    "#Count based on the day of the week\n",
    "print(df_train['pickup_day'].value_counts())"
   ]
  },
  {
   "cell_type": "code",
   "execution_count": 86,
   "metadata": {
    "collapsed": false
   },
   "outputs": [
    {
     "data": {
      "image/png": "[encoded data removed]",
      "text/plain": [
       "<matplotlib.figure.Figure at 0x19303e022b0>"
      ]
     },
     "metadata": {},
     "output_type": "display_data"
    }
   ],
   "source": [
    "#Checking at what date of a month the number of trips are more\n",
    "f = plt.figure(figsize=(10,5))\n",
    "sns.countplot(x='pickup_date', data=df_train)\n",
    "plt.xlabel('Day of month', fontsize=11)\n",
    "plt.ylabel('Count', fontsize=11)\n",
    "plt.show()"
   ]
  },
  {
   "cell_type": "code",
   "execution_count": 85,
   "metadata": {
    "collapsed": false
   },
   "outputs": [
    {
     "data": {
      "image/png": "[encoded data removed]",
      "text/plain": [
       "<matplotlib.figure.Figure at 0x19303739be0>"
      ]
     },
     "metadata": {},
     "output_type": "display_data"
    }
   ],
   "source": [
    "#Checking at what date of the week the number of trips are more\n",
    "f = plt.figure(figsize=(8,4))\n",
    "day_of_week = [i for i in range(7)]\n",
    "sns.countplot(x='pickup_day', data=df_train)\n",
    "plt.xlabel('Day of month', fontsize=11)\n",
    "plt.ylabel('Count', fontsize=11)\n",
    "plt.xticks(day_of_week, ('Monday', 'Tuesday', 'Wednesday', 'Thursday', 'Friday', 'Saturday', 'Sunday'))\n",
    "plt.show()"
   ]
  },
  {
   "cell_type": "code",
   "execution_count": 81,
   "metadata": {
    "collapsed": false
   },
   "outputs": [
    {
     "name": "stdout",
     "output_type": "stream",
     "text": [
      "3    256189\n",
      "4    251645\n",
      "5    248487\n",
      "2    238300\n",
      "6    234316\n",
      "1    229707\n",
      "Name: pickup_month, dtype: int64\n"
     ]
    }
   ],
   "source": [
    "print(df_train['pickup_month'].value_counts())"
   ]
  },
  {
   "cell_type": "code",
   "execution_count": 87,
   "metadata": {
    "collapsed": false
   },
   "outputs": [
    {
     "data": {
      "image/png": "[encoded data removed]",
      "text/plain": [
       "<matplotlib.figure.Figure at 0x19303320390>"
      ]
     },
     "metadata": {},
     "output_type": "display_data"
    }
   ],
   "source": [
    "f = plt.figure(figsize=(10,5))\n",
    "sns.countplot(x='pickup_hour', data=df_train)\n",
    "plt.xlabel('Hour of the day', fontsize=11)\n",
    "plt.ylabel('Count', fontsize=11)\n",
    "plt.show()"
   ]
  },
  {
   "cell_type": "markdown",
   "metadata": {},
   "source": [
    "It is evident from the above plot that number of trips spike after 6pm till midnight"
   ]
  },
  {
   "cell_type": "code",
   "execution_count": 88,
   "metadata": {
    "collapsed": false
   },
   "outputs": [
    {
     "data": {
      "image/png": "[encoded data removed]",
      "text/plain": [
       "<matplotlib.figure.Figure at 0x19303560860>"
      ]
     },
     "metadata": {},
     "output_type": "display_data"
    }
   ],
   "source": [
    "f = plt.figure(figsize=(10,8))\n",
    "days = [i for i in range(7)]\n",
    "sns.countplot(x='pickup_day', data=df_train, hue='pickup_hour', alpha=0.8)\n",
    "plt.xlabel('Day of the week', fontsize=14)\n",
    "plt.ylabel('Count', fontsize=14)\n",
    "plt.xticks(days, ('Monday', 'Tuesday', 'Wednesday', 'Thursday', 'Friday', 'Saturday', 'Sunday'))\n",
    "plt.legend(loc=(1.04,0))\n",
    "plt.show()"
   ]
  },
  {
   "cell_type": "markdown",
   "metadata": {},
   "source": [
    "<h3>Reading the external data</h3>"
   ]
  },
  {
   "cell_type": "code",
   "execution_count": 92,
   "metadata": {
    "collapsed": false
   },
   "outputs": [
    {
     "data": {
      "text/html": [
       "<div>\n",
       "<table border=\"1\" class=\"dataframe\">\n",
       "  <thead>\n",
       "    <tr style=\"text-align: right;\">\n",
       "      <th></th>\n",
       "      <th>id</th>\n",
       "      <th>starting_street</th>\n",
       "      <th>end_street</th>\n",
       "      <th>total_distance</th>\n",
       "      <th>total_travel_time</th>\n",
       "      <th>number_of_steps</th>\n",
       "      <th>street_for_each_step</th>\n",
       "      <th>distance_per_step</th>\n",
       "      <th>travel_time_per_step</th>\n",
       "      <th>step_maneuvers</th>\n",
       "      <th>step_direction</th>\n",
       "      <th>step_location_list</th>\n",
       "    </tr>\n",
       "  </thead>\n",
       "  <tbody>\n",
       "    <tr>\n",
       "      <th>0</th>\n",
       "      <td>id2875421</td>\n",
       "      <td>Columbus Circle</td>\n",
       "      <td>East 65th Street</td>\n",
       "      <td>2009.1</td>\n",
       "      <td>164.9</td>\n",
       "      <td>5</td>\n",
       "      <td>Columbus Circle|Central Park West|65th Street ...</td>\n",
       "      <td>0|576.4|885.6|547.1|0</td>\n",
       "      <td>0|61.1|60.1|43.7|0</td>\n",
       "      <td>depart|rotary|turn|new name|arrive</td>\n",
       "      <td>left|straight|right|straight|arrive</td>\n",
       "      <td>-73.982316,40.767869|-73.981997,40.767688|-73....</td>\n",
       "    </tr>\n",
       "    <tr>\n",
       "      <th>1</th>\n",
       "      <td>id2377394</td>\n",
       "      <td>2nd Avenue</td>\n",
       "      <td>Washington Square West</td>\n",
       "      <td>2513.2</td>\n",
       "      <td>332.0</td>\n",
       "      <td>6</td>\n",
       "      <td>2nd Avenue|East 13th Street|5th Avenue|Washing...</td>\n",
       "      <td>877.3|836.5|496.1|164.2|139.1|0</td>\n",
       "      <td>111.7|109|69.9|25.8|15.6|0</td>\n",
       "      <td>depart|turn|turn|end of road|continue|arrive</td>\n",
       "      <td>none|right|left|right|left|arrive</td>\n",
       "      <td>-73.980429,40.73857|-73.985444,40.731658|-73.9...</td>\n",
       "    </tr>\n",
       "    <tr>\n",
       "      <th>2</th>\n",
       "      <td>id3504673</td>\n",
       "      <td>Greenwich Street</td>\n",
       "      <td>Broadway</td>\n",
       "      <td>1779.4</td>\n",
       "      <td>235.8</td>\n",
       "      <td>4</td>\n",
       "      <td>Greenwich Street|Park Place|Broadway|Broadway</td>\n",
       "      <td>644.2|379.9|755.3|0</td>\n",
       "      <td>80.5|50.8|104.5|0</td>\n",
       "      <td>depart|turn|end of road|arrive</td>\n",
       "      <td>left|left|right|arrive</td>\n",
       "      <td>-74.010145,40.719982|-74.011527,40.714294|-74....</td>\n",
       "    </tr>\n",
       "    <tr>\n",
       "      <th>3</th>\n",
       "      <td>id2181028</td>\n",
       "      <td>Broadway</td>\n",
       "      <td>West 81st Street</td>\n",
       "      <td>1614.9</td>\n",
       "      <td>140.1</td>\n",
       "      <td>5</td>\n",
       "      <td>Broadway|West 86th Street|Columbus Avenue|West...</td>\n",
       "      <td>617|427.4|412.2|158.3|0</td>\n",
       "      <td>56|36|37.8|10.3|0</td>\n",
       "      <td>depart|turn|turn|turn|arrive</td>\n",
       "      <td>right|left|right|left|arrive</td>\n",
       "      <td>-73.972998,40.793187|-73.976607,40.788361|-73....</td>\n",
       "    </tr>\n",
       "    <tr>\n",
       "      <th>4</th>\n",
       "      <td>id0801584</td>\n",
       "      <td>Lexington Avenue</td>\n",
       "      <td>West 31st Street</td>\n",
       "      <td>1393.5</td>\n",
       "      <td>189.4</td>\n",
       "      <td>5</td>\n",
       "      <td>Lexington Avenue|East 27th Street|Madison Aven...</td>\n",
       "      <td>18.9|311.9|313.3|749.4|0</td>\n",
       "      <td>6.3|42.9|48.4|91.8|0</td>\n",
       "      <td>depart|turn|turn|turn|arrive</td>\n",
       "      <td>right|right|right|left|arrive</td>\n",
       "      <td>-73.982805,40.742173|-73.982914,40.742024|-73....</td>\n",
       "    </tr>\n",
       "  </tbody>\n",
       "</table>\n",
       "</div>"
      ],
      "text/plain": [
       "          id   starting_street              end_street  total_distance  \\\n",
       "0  id2875421   Columbus Circle        East 65th Street          2009.1   \n",
       "1  id2377394        2nd Avenue  Washington Square West          2513.2   \n",
       "2  id3504673  Greenwich Street                Broadway          1779.4   \n",
       "3  id2181028          Broadway        West 81st Street          1614.9   \n",
       "4  id0801584  Lexington Avenue        West 31st Street          1393.5   \n",
       "\n",
       "   total_travel_time  number_of_steps  \\\n",
       "0              164.9                5   \n",
       "1              332.0                6   \n",
       "2              235.8                4   \n",
       "3              140.1                5   \n",
       "4              189.4                5   \n",
       "\n",
       "                                street_for_each_step  \\\n",
       "0  Columbus Circle|Central Park West|65th Street ...   \n",
       "1  2nd Avenue|East 13th Street|5th Avenue|Washing...   \n",
       "2      Greenwich Street|Park Place|Broadway|Broadway   \n",
       "3  Broadway|West 86th Street|Columbus Avenue|West...   \n",
       "4  Lexington Avenue|East 27th Street|Madison Aven...   \n",
       "\n",
       "                 distance_per_step        travel_time_per_step  \\\n",
       "0            0|576.4|885.6|547.1|0          0|61.1|60.1|43.7|0   \n",
       "1  877.3|836.5|496.1|164.2|139.1|0  111.7|109|69.9|25.8|15.6|0   \n",
       "2              644.2|379.9|755.3|0           80.5|50.8|104.5|0   \n",
       "3          617|427.4|412.2|158.3|0           56|36|37.8|10.3|0   \n",
       "4         18.9|311.9|313.3|749.4|0        6.3|42.9|48.4|91.8|0   \n",
       "\n",
       "                                 step_maneuvers  \\\n",
       "0            depart|rotary|turn|new name|arrive   \n",
       "1  depart|turn|turn|end of road|continue|arrive   \n",
       "2                depart|turn|end of road|arrive   \n",
       "3                  depart|turn|turn|turn|arrive   \n",
       "4                  depart|turn|turn|turn|arrive   \n",
       "\n",
       "                        step_direction  \\\n",
       "0  left|straight|right|straight|arrive   \n",
       "1    none|right|left|right|left|arrive   \n",
       "2               left|left|right|arrive   \n",
       "3         right|left|right|left|arrive   \n",
       "4        right|right|right|left|arrive   \n",
       "\n",
       "                                  step_location_list  \n",
       "0  -73.982316,40.767869|-73.981997,40.767688|-73....  \n",
       "1  -73.980429,40.73857|-73.985444,40.731658|-73.9...  \n",
       "2  -74.010145,40.719982|-74.011527,40.714294|-74....  \n",
       "3  -73.972998,40.793187|-73.976607,40.788361|-73....  \n",
       "4  -73.982805,40.742173|-73.982914,40.742024|-73....  "
      ]
     },
     "execution_count": 92,
     "metadata": {},
     "output_type": "execute_result"
    }
   ],
   "source": [
    "df_train_new = df_train.copy()\n",
    "fast_route_1 = pd.read_csv(\"C:/Users/ninad/Desktop/BDSIN/Final Project/Data/OSRM/fastest_routes_train_part_1.csv\")\n",
    "fast_route_2 = pd.read_csv(\"C:/Users/ninad/Desktop/BDSIN/Final Project/Data/OSRM/fastest_routes_train_part_2.csv\")\n",
    "fast_route = pd.concat([fast_route_1,fast_route_2])\n",
    "fast_route.head()"
   ]
  },
  {
   "cell_type": "code",
   "execution_count": 93,
   "metadata": {
    "collapsed": false
   },
   "outputs": [
    {
     "name": "stdout",
     "output_type": "stream",
     "text": [
      "0\n"
     ]
    }
   ],
   "source": [
    "print(fast_route.id.duplicated().sum())"
   ]
  },
  {
   "cell_type": "code",
   "execution_count": 95,
   "metadata": {
    "collapsed": false
   },
   "outputs": [
    {
     "data": {
      "text/html": [
       "<div>\n",
       "<table border=\"1\" class=\"dataframe\">\n",
       "  <thead>\n",
       "    <tr style=\"text-align: right;\">\n",
       "      <th></th>\n",
       "      <th>id</th>\n",
       "      <th>total_distance</th>\n",
       "      <th>total_travel_time</th>\n",
       "      <th>number_of_steps</th>\n",
       "    </tr>\n",
       "  </thead>\n",
       "  <tbody>\n",
       "    <tr>\n",
       "      <th>0</th>\n",
       "      <td>id2875421</td>\n",
       "      <td>2009.1</td>\n",
       "      <td>164.9</td>\n",
       "      <td>5</td>\n",
       "    </tr>\n",
       "    <tr>\n",
       "      <th>1</th>\n",
       "      <td>id2377394</td>\n",
       "      <td>2513.2</td>\n",
       "      <td>332.0</td>\n",
       "      <td>6</td>\n",
       "    </tr>\n",
       "    <tr>\n",
       "      <th>2</th>\n",
       "      <td>id3504673</td>\n",
       "      <td>1779.4</td>\n",
       "      <td>235.8</td>\n",
       "      <td>4</td>\n",
       "    </tr>\n",
       "    <tr>\n",
       "      <th>3</th>\n",
       "      <td>id2181028</td>\n",
       "      <td>1614.9</td>\n",
       "      <td>140.1</td>\n",
       "      <td>5</td>\n",
       "    </tr>\n",
       "    <tr>\n",
       "      <th>4</th>\n",
       "      <td>id0801584</td>\n",
       "      <td>1393.5</td>\n",
       "      <td>189.4</td>\n",
       "      <td>5</td>\n",
       "    </tr>\n",
       "  </tbody>\n",
       "</table>\n",
       "</div>"
      ],
      "text/plain": [
       "          id  total_distance  total_travel_time  number_of_steps\n",
       "0  id2875421          2009.1              164.9                5\n",
       "1  id2377394          2513.2              332.0                6\n",
       "2  id3504673          1779.4              235.8                4\n",
       "3  id2181028          1614.9              140.1                5\n",
       "4  id0801584          1393.5              189.4                5"
      ]
     },
     "execution_count": 95,
     "metadata": {},
     "output_type": "execute_result"
    }
   ],
   "source": [
    "fast_route_new = fast_route[['id','total_distance','total_travel_time','number_of_steps']]\n",
    "fast_route_new.head()"
   ]
  },
  {
   "cell_type": "code",
   "execution_count": 96,
   "metadata": {
    "collapsed": false
   },
   "outputs": [
    {
     "data": {
      "text/html": [
       "<div>\n",
       "<table border=\"1\" class=\"dataframe\">\n",
       "  <thead>\n",
       "    <tr style=\"text-align: right;\">\n",
       "      <th></th>\n",
       "      <th>id</th>\n",
       "      <th>vendor_id</th>\n",
       "      <th>pickup_datetime</th>\n",
       "      <th>dropoff_datetime</th>\n",
       "      <th>passenger_count</th>\n",
       "      <th>pickup_longitude</th>\n",
       "      <th>pickup_latitude</th>\n",
       "      <th>dropoff_longitude</th>\n",
       "      <th>dropoff_latitude</th>\n",
       "      <th>store_and_fwd_flag</th>\n",
       "      <th>...</th>\n",
       "      <th>pickup_hour</th>\n",
       "      <th>pickup_minute</th>\n",
       "      <th>pickup_second</th>\n",
       "      <th>pickup_day</th>\n",
       "      <th>pickup_date</th>\n",
       "      <th>pickup_month</th>\n",
       "      <th>pickup_year</th>\n",
       "      <th>total_distance</th>\n",
       "      <th>total_travel_time</th>\n",
       "      <th>number_of_steps</th>\n",
       "    </tr>\n",
       "  </thead>\n",
       "  <tbody>\n",
       "    <tr>\n",
       "      <th>0</th>\n",
       "      <td>id2875421</td>\n",
       "      <td>2</td>\n",
       "      <td>2016-03-14 17:24:55</td>\n",
       "      <td>2016-03-14 17:32:30</td>\n",
       "      <td>1</td>\n",
       "      <td>-73.982155</td>\n",
       "      <td>40.767937</td>\n",
       "      <td>-73.964630</td>\n",
       "      <td>40.765602</td>\n",
       "      <td>N</td>\n",
       "      <td>...</td>\n",
       "      <td>17</td>\n",
       "      <td>24</td>\n",
       "      <td>55</td>\n",
       "      <td>0</td>\n",
       "      <td>14</td>\n",
       "      <td>3</td>\n",
       "      <td>2016</td>\n",
       "      <td>2009.1</td>\n",
       "      <td>164.9</td>\n",
       "      <td>5.0</td>\n",
       "    </tr>\n",
       "    <tr>\n",
       "      <th>1</th>\n",
       "      <td>id2377394</td>\n",
       "      <td>1</td>\n",
       "      <td>2016-06-12 00:43:35</td>\n",
       "      <td>2016-06-12 00:54:38</td>\n",
       "      <td>1</td>\n",
       "      <td>-73.980415</td>\n",
       "      <td>40.738564</td>\n",
       "      <td>-73.999481</td>\n",
       "      <td>40.731152</td>\n",
       "      <td>N</td>\n",
       "      <td>...</td>\n",
       "      <td>0</td>\n",
       "      <td>43</td>\n",
       "      <td>35</td>\n",
       "      <td>6</td>\n",
       "      <td>12</td>\n",
       "      <td>6</td>\n",
       "      <td>2016</td>\n",
       "      <td>2513.2</td>\n",
       "      <td>332.0</td>\n",
       "      <td>6.0</td>\n",
       "    </tr>\n",
       "    <tr>\n",
       "      <th>2</th>\n",
       "      <td>id3858529</td>\n",
       "      <td>2</td>\n",
       "      <td>2016-01-19 11:35:24</td>\n",
       "      <td>2016-01-19 12:10:48</td>\n",
       "      <td>1</td>\n",
       "      <td>-73.979027</td>\n",
       "      <td>40.763939</td>\n",
       "      <td>-74.005333</td>\n",
       "      <td>40.710087</td>\n",
       "      <td>N</td>\n",
       "      <td>...</td>\n",
       "      <td>11</td>\n",
       "      <td>35</td>\n",
       "      <td>24</td>\n",
       "      <td>1</td>\n",
       "      <td>19</td>\n",
       "      <td>1</td>\n",
       "      <td>2016</td>\n",
       "      <td>11060.8</td>\n",
       "      <td>767.6</td>\n",
       "      <td>16.0</td>\n",
       "    </tr>\n",
       "    <tr>\n",
       "      <th>3</th>\n",
       "      <td>id3504673</td>\n",
       "      <td>2</td>\n",
       "      <td>2016-04-06 19:32:31</td>\n",
       "      <td>2016-04-06 19:39:40</td>\n",
       "      <td>1</td>\n",
       "      <td>-74.010040</td>\n",
       "      <td>40.719971</td>\n",
       "      <td>-74.012268</td>\n",
       "      <td>40.706718</td>\n",
       "      <td>N</td>\n",
       "      <td>...</td>\n",
       "      <td>19</td>\n",
       "      <td>32</td>\n",
       "      <td>31</td>\n",
       "      <td>2</td>\n",
       "      <td>6</td>\n",
       "      <td>4</td>\n",
       "      <td>2016</td>\n",
       "      <td>1779.4</td>\n",
       "      <td>235.8</td>\n",
       "      <td>4.0</td>\n",
       "    </tr>\n",
       "    <tr>\n",
       "      <th>4</th>\n",
       "      <td>id2181028</td>\n",
       "      <td>2</td>\n",
       "      <td>2016-03-26 13:30:55</td>\n",
       "      <td>2016-03-26 13:38:10</td>\n",
       "      <td>1</td>\n",
       "      <td>-73.973053</td>\n",
       "      <td>40.793209</td>\n",
       "      <td>-73.972923</td>\n",
       "      <td>40.782520</td>\n",
       "      <td>N</td>\n",
       "      <td>...</td>\n",
       "      <td>13</td>\n",
       "      <td>30</td>\n",
       "      <td>55</td>\n",
       "      <td>5</td>\n",
       "      <td>26</td>\n",
       "      <td>3</td>\n",
       "      <td>2016</td>\n",
       "      <td>1614.9</td>\n",
       "      <td>140.1</td>\n",
       "      <td>5.0</td>\n",
       "    </tr>\n",
       "  </tbody>\n",
       "</table>\n",
       "<p>5 rows × 21 columns</p>\n",
       "</div>"
      ],
      "text/plain": [
       "          id  vendor_id     pickup_datetime    dropoff_datetime  \\\n",
       "0  id2875421          2 2016-03-14 17:24:55 2016-03-14 17:32:30   \n",
       "1  id2377394          1 2016-06-12 00:43:35 2016-06-12 00:54:38   \n",
       "2  id3858529          2 2016-01-19 11:35:24 2016-01-19 12:10:48   \n",
       "3  id3504673          2 2016-04-06 19:32:31 2016-04-06 19:39:40   \n",
       "4  id2181028          2 2016-03-26 13:30:55 2016-03-26 13:38:10   \n",
       "\n",
       "   passenger_count  pickup_longitude  pickup_latitude  dropoff_longitude  \\\n",
       "0                1        -73.982155        40.767937         -73.964630   \n",
       "1                1        -73.980415        40.738564         -73.999481   \n",
       "2                1        -73.979027        40.763939         -74.005333   \n",
       "3                1        -74.010040        40.719971         -74.012268   \n",
       "4                1        -73.973053        40.793209         -73.972923   \n",
       "\n",
       "   dropoff_latitude store_and_fwd_flag       ...         pickup_hour  \\\n",
       "0         40.765602                  N       ...                  17   \n",
       "1         40.731152                  N       ...                   0   \n",
       "2         40.710087                  N       ...                  11   \n",
       "3         40.706718                  N       ...                  19   \n",
       "4         40.782520                  N       ...                  13   \n",
       "\n",
       "   pickup_minute  pickup_second  pickup_day  pickup_date  pickup_month  \\\n",
       "0             24             55           0           14             3   \n",
       "1             43             35           6           12             6   \n",
       "2             35             24           1           19             1   \n",
       "3             32             31           2            6             4   \n",
       "4             30             55           5           26             3   \n",
       "\n",
       "   pickup_year  total_distance  total_travel_time  number_of_steps  \n",
       "0         2016          2009.1              164.9              5.0  \n",
       "1         2016          2513.2              332.0              6.0  \n",
       "2         2016         11060.8              767.6             16.0  \n",
       "3         2016          1779.4              235.8              4.0  \n",
       "4         2016          1614.9              140.1              5.0  \n",
       "\n",
       "[5 rows x 21 columns]"
      ]
     },
     "execution_count": 96,
     "metadata": {},
     "output_type": "execute_result"
    }
   ],
   "source": [
    "train_df = pd.merge(df_train_new, fast_route_new, on='id', how='left')\n",
    "train_df.head()"
   ]
  },
  {
   "cell_type": "code",
   "execution_count": 98,
   "metadata": {
    "collapsed": false
   },
   "outputs": [
    {
     "name": "stdout",
     "output_type": "stream",
     "text": [
      "(1458644, 21)\n"
     ]
    }
   ],
   "source": [
    "print(train_df.shape)"
   ]
  },
  {
   "cell_type": "code",
   "execution_count": 104,
   "metadata": {
    "collapsed": false
   },
   "outputs": [
    {
     "data": {
      "image/png": "[encoded data removed]",
      "text/plain": [
       "<matplotlib.figure.Figure at 0x193a2853668>"
      ]
     },
     "metadata": {},
     "output_type": "display_data"
    }
   ],
   "source": [
    "import warnings\n",
    "warnings.filterwarnings('ignore')\n",
    "sns.set(style=\"white\")\n",
    "f, axes = plt.subplots(1, 1, figsize=(9, 5), sharex=True)\n",
    "sns.despine(left=True)\n",
    "sns.distplot(np.log(train_df['trip_duration'].values+1), \n",
    "             axlabel = 'Log(trip_duration)', \n",
    "             label = 'log(trip_duration)', \n",
    "             bins = 50, \n",
    "             color=\"g\")\n",
    "plt.setp(axes, yticks=[])\n",
    "plt.show()\n"
   ]
  },
  {
   "cell_type": "code",
   "execution_count": null,
   "metadata": {
    "collapsed": true
   },
   "outputs": [],
   "source": []
  }
 ],
 "metadata": {
  "anaconda-cloud": {},
  "kernelspec": {
   "display_name": "Python [conda root]",
   "language": "python",
   "name": "conda-root-py"
  },
  "language_info": {
   "codemirror_mode": {
    "name": "ipython",
    "version": 3
   },
   "file_extension": ".py",
   "mimetype": "text/x-python",
   "name": "python",
   "nbconvert_exporter": "python",
   "pygments_lexer": "ipython3",
   "version": "3.5.2"
  }
 },
 "nbformat": 4,
 "nbformat_minor": 1
}
